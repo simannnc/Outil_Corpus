{
 "cells": [
  {
   "cell_type": "markdown",
   "id": "9347287d-d365-4980-b5a4-478d6cbecff6",
   "metadata": {},
   "source": [
    "# Evaluation using Rouge"
   ]
  },
  {
   "cell_type": "code",
   "execution_count": 17,
   "id": "5aa69d1e-6dcb-4646-8866-b0cc2b002e9d",
   "metadata": {},
   "outputs": [
    {
     "name": "stdout",
     "output_type": "stream",
     "text": [
      "Requirement already satisfied: rouge in /Users/siman/miniconda3/lib/python3.11/site-packages (1.0.1)\n",
      "Requirement already satisfied: six in /Users/siman/miniconda3/lib/python3.11/site-packages (from rouge) (1.16.0)\n",
      "Note: you may need to restart the kernel to use updated packages.\n"
     ]
    }
   ],
   "source": [
    "pip install rouge"
   ]
  },
  {
   "cell_type": "code",
   "execution_count": 18,
   "id": "39efa7d6-7bd9-4e81-8ae8-c3250c7a146c",
   "metadata": {},
   "outputs": [],
   "source": [
    "from rouge import Rouge\n",
    "import pandas as pd"
   ]
  },
  {
   "cell_type": "markdown",
   "id": "321d84d4-40ca-4c02-8e6f-b11717b0f34b",
   "metadata": {},
   "source": [
    "After removing some outliers, I then preceed to evaluate the quality of text summaries using ROUGE scores. The ROUGE metrics show that the summaries are highly condensed, which seems to miss a lot of the original content. "
   ]
  },
  {
   "cell_type": "code",
   "execution_count": 19,
   "id": "8534de15-0c37-4f70-a121-24119c57c3dc",
   "metadata": {},
   "outputs": [
    {
     "name": "stdout",
     "output_type": "stream",
     "text": [
      "ROUGE Scores: {'rouge-1': {'r': 0.03888613217339696, 'p': 0.822556244510026, 'f': 0.07374629530986938}, 'rouge-2': {'r': 0.012355982046341616, 'p': 0.4013977029069911, 'f': 0.023836888587387285}, 'rouge-l': {'r': 0.03199708585413308, 'p': 0.6821242826494922, 'f': 0.06070796872298221}}\n"
     ]
    }
   ],
   "source": [
    "df = pd.read_csv('articles_with_removal.csv')\n",
    "\n",
    "rouge = Rouge()\n",
    "scores = rouge.get_scores(df['preprocessed_highlights'].tolist(), df['preprocessed_articles'].tolist(), avg=True)\n",
    "print(\"ROUGE Scores:\", scores)"
   ]
  },
  {
   "cell_type": "markdown",
   "id": "23100cce-4ced-42aa-b30e-c913d791c53f",
   "metadata": {},
   "source": [
    "To maximize the Rouge Score, I select the top 200 pairs that have the highest ROUGE-L F1 score, which is calculated using the function calculate_rouge_score."
   ]
  },
  {
   "cell_type": "code",
   "execution_count": 20,
   "id": "cdc7d730-f72c-41de-bb77-d357324eb2bd",
   "metadata": {},
   "outputs": [
    {
     "name": "stdout",
     "output_type": "stream",
     "text": [
      "Top 200 article-summary pairs saved to 'top_200_article_summary_pairs.csv'\n"
     ]
    }
   ],
   "source": [
    "# Function to calculate average ROUGE score for given pairs of articles and summaries\n",
    "def calculate_rouge_score(article, summary):\n",
    "    scores = rouge.get_scores(article, summary, avg=True)\n",
    "    return scores['rouge-l']['f']\n",
    "\n",
    "# Calculate the ROUGE score for each existing pair\n",
    "df['rouge_score'] = df.apply(lambda row: calculate_rouge_score(row['preprocessed_articles'], row['preprocessed_highlights']), axis=1)\n",
    "\n",
    "# Sort the pairs by the ROUGE score in descending order\n",
    "df = df.sort_values(by='rouge_score', ascending=False)\n",
    "\n",
    "# Select the top 200 unique articles\n",
    "unique_articles = set()\n",
    "top_200_pairs = []\n",
    "for index, row in df.iterrows():\n",
    "    if row['preprocessed_articles'] not in unique_articles:\n",
    "        unique_articles.add(row['preprocessed_articles'])\n",
    "        top_200_pairs.append(row)\n",
    "    if len(top_200_pairs) == 200:\n",
    "        break\n",
    "\n",
    "# Convert the list of top pairs to a DataFrame\n",
    "top_200_pairs_df = pd.DataFrame(top_200_pairs)\n",
    "\n",
    "# Generate new IDs from 1 to 200\n",
    "top_200_pairs_df['id'] = range(1, 201)\n",
    "\n",
    "columns_to_save = ['id', 'articles', 'highlights']\n",
    "top_200_pairs_to_save = top_200_pairs_df[columns_to_save]\n",
    "\n",
    "# Save the top 200 pairs with their original information to a new CSV file\n",
    "top_200_pairs_to_save.to_csv('top_200_article_summary_pairs.csv', index=False)\n",
    "print(\"Top 200 article-summary pairs saved to 'top_200_article_summary_pairs.csv'\")"
   ]
  }
 ],
 "metadata": {
  "kernelspec": {
   "display_name": "Python 3 (ipykernel)",
   "language": "python",
   "name": "python3"
  },
  "language_info": {
   "codemirror_mode": {
    "name": "ipython",
    "version": 3
   },
   "file_extension": ".py",
   "mimetype": "text/x-python",
   "name": "python",
   "nbconvert_exporter": "python",
   "pygments_lexer": "ipython3",
   "version": "3.11.4"
  }
 },
 "nbformat": 4,
 "nbformat_minor": 5
}
