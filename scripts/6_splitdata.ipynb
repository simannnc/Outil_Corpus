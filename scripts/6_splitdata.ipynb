{
 "cells": [
  {
   "cell_type": "markdown",
   "id": "3475c180-7499-428f-80ca-2658d4c7e52f",
   "metadata": {},
   "source": [
    "# Split data"
   ]
  },
  {
   "cell_type": "code",
   "execution_count": 2,
   "id": "fdb8279f-73b5-484a-991a-e845cf755133",
   "metadata": {},
   "outputs": [
    {
     "name": "stdout",
     "output_type": "stream",
     "text": [
      "Training and testing data have been saved.\n"
     ]
    }
   ],
   "source": [
    "import pandas as pd\n",
    "from sklearn.model_selection import train_test_split\n",
    "\n",
    "df = pd.read_csv('top_200_article_summary_pairs.csv')\n",
    "\n",
    "# Prepare the data\n",
    "textes = df['articles'].tolist() \n",
    "labels = df['highlights'].tolist()\n",
    "\n",
    "# Split the data into training and testing sets\n",
    "X_train, X_test, y_train, y_test = train_test_split(\n",
    "    textes, labels, test_size=0.2, random_state=0)  # Random state for reproducibility\n",
    "\n",
    "#save the splits to CSV files\n",
    "train_df = pd.DataFrame({'articles': X_train, 'highlights': y_train})\n",
    "test_df = pd.DataFrame({'articles': X_test, 'highlights': y_test})\n",
    "\n",
    "train_df.to_csv('train_article_summary_pairs.csv', index=False)\n",
    "test_df.to_csv('test_article_summary_pairs.csv', index=False)\n",
    "\n",
    "print(\"Training and testing data have been saved.\")"
   ]
  }
 ],
 "metadata": {
  "kernelspec": {
   "display_name": "Python 3 (ipykernel)",
   "language": "python",
   "name": "python3"
  },
  "language_info": {
   "codemirror_mode": {
    "name": "ipython",
    "version": 3
   },
   "file_extension": ".py",
   "mimetype": "text/x-python",
   "name": "python",
   "nbconvert_exporter": "python",
   "pygments_lexer": "ipython3",
   "version": "3.11.4"
  }
 },
 "nbformat": 4,
 "nbformat_minor": 5
}
